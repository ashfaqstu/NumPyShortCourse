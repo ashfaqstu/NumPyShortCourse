{
 "cells": [
  {
   "cell_type": "code",
   "execution_count": 17,
   "id": "b52e9687-a7be-4a9d-945c-81f4bed0de75",
   "metadata": {},
   "outputs": [
    {
     "name": "stdout",
     "output_type": "stream",
     "text": [
      "Requirement already satisfied: numpy in c:\\users\\user\\appdata\\local\\programs\\python\\python312\\lib\\site-packages (1.26.4)\n"
     ]
    },
    {
     "name": "stderr",
     "output_type": "stream",
     "text": [
      "\n",
      "[notice] A new release of pip is available: 25.1.1 -> 25.2\n",
      "[notice] To update, run: python.exe -m pip install --upgrade pip\n"
     ]
    }
   ],
   "source": [
    "!pip install numpy\n",
    "#shift enter to run and proceed"
   ]
  },
  {
   "cell_type": "code",
   "execution_count": 4,
   "id": "9fd00315-3482-41a1-adea-8c191df51813",
   "metadata": {},
   "outputs": [],
   "source": [
    "#convention to load numpy as np\n",
    "import numpy as np"
   ]
  },
  {
   "cell_type": "code",
   "execution_count": 6,
   "id": "d9bd08b1-7baf-484d-b66a-67680330ee42",
   "metadata": {},
   "outputs": [],
   "source": [
    "data= np.random.rand(2,3,4)\n",
    "zeroes = np.zeros((2,2,2))\n",
    "full= np.full((2,2,2),7)\n",
    "ones= np.ones((2,2,2))"
   ]
  },
  {
   "cell_type": "code",
   "execution_count": 88,
   "id": "a727d804-79a6-45a3-ab09-7f10dda9f9ab",
   "metadata": {},
   "outputs": [
    {
     "data": {
      "text/plain": [
       "array([[[5.23867078e-01, 8.79758120e-01, 9.51191465e-01, 1.00000000e+02,\n",
       "         9.07714656e-04, 1.92464980e-01],\n",
       "        [5.84801792e-01, 7.03503400e-01, 1.18366673e-02, 2.40381945e-01,\n",
       "         3.96975577e-01, 5.16347045e-01]],\n",
       "\n",
       "       [[3.69164483e-02, 3.69395873e-01, 3.71958906e-01, 3.73208737e-01,\n",
       "         3.25596967e-01, 3.83817637e-01],\n",
       "        [3.94848048e-01, 4.59991534e-01, 2.05976002e-01, 3.23727845e-01,\n",
       "         5.88001482e-01, 7.09411878e-01]]])"
      ]
     },
     "execution_count": 88,
     "metadata": {},
     "output_type": "execute_result"
    }
   ],
   "source": [
    "#in the next code we will see the outputs\n",
    "data\n",
    "\n"
   ]
  },
  {
   "cell_type": "code",
   "execution_count": 22,
   "id": "ed448a9f-bc93-4844-b5d5-62cb09b3c205",
   "metadata": {},
   "outputs": [],
   "source": [
    "np.delete(data,0,axis=1) #pass the"
   ]
  }
 ],
 "metadata": {
  "kernelspec": {
   "display_name": "Python 3 (ipykernel)",
   "language": "python",
   "name": "python3"
  },
  "language_info": {
   "codemirror_mode": {
    "name": "ipython",
    "version": 3
   },
   "file_extension": ".py",
   "mimetype": "text/x-python",
   "name": "python",
   "nbconvert_exporter": "python",
   "pygments_lexer": "ipython3",
   "version": "3.12.7"
  }
 },
 "nbformat": 4,
 "nbformat_minor": 5
}
