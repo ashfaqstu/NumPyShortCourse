{
 "cells": [
  {
   "cell_type": "code",
   "execution_count": 17,
   "id": "b52e9687-a7be-4a9d-945c-81f4bed0de75",
   "metadata": {},
   "outputs": [
    {
     "name": "stdout",
     "output_type": "stream",
     "text": [
      "Requirement already satisfied: numpy in c:\\users\\user\\appdata\\local\\programs\\python\\python312\\lib\\site-packages (1.26.4)\n"
     ]
    },
    {
     "name": "stderr",
     "output_type": "stream",
     "text": [
      "\n",
      "[notice] A new release of pip is available: 25.1.1 -> 25.2\n",
      "[notice] To update, run: python.exe -m pip install --upgrade pip\n"
     ]
    }
   ],
   "source": [
    "!pip install numpy\n",
    "#shift enter to run and proceed"
   ]
  },
  {
   "cell_type": "code",
   "execution_count": 4,
   "id": "9fd00315-3482-41a1-adea-8c191df51813",
   "metadata": {},
   "outputs": [],
   "source": [
    "#convention to load numpy as np\n",
    "import numpy as np"
   ]
  },
  {
   "cell_type": "code",
   "execution_count": 6,
   "id": "d9bd08b1-7baf-484d-b66a-67680330ee42",
   "metadata": {},
   "outputs": [],
   "source": [
    "data= np.random.rand(2,3,4)\n",
    "zeroes = np.zeros((2,2,2))\n",
    "full= np.full((2,2,2),7)\n",
    "ones= np.ones((2,2,2))"
   ]
  },
  {
   "cell_type": "code",
   "execution_count": 18,
   "id": "a727d804-79a6-45a3-ab09-7f10dda9f9ab",
   "metadata": {},
   "outputs": [
    {
     "data": {
      "text/plain": [
       "array([[[4.00371572e-01, 8.79758120e-01, 9.51191465e-01, 5.23867078e-01],\n",
       "        [5.84801792e-01, 1.92464980e-01, 9.07714656e-04, 7.03503400e-01],\n",
       "        [2.40381945e-01, 1.18366673e-02, 3.96975577e-01, 5.16347045e-01]],\n",
       "\n",
       "       [[3.73208737e-01, 3.71958906e-01, 3.69164483e-02, 3.69395873e-01],\n",
       "        [4.59991534e-01, 3.94848048e-01, 3.83817637e-01, 3.25596967e-01],\n",
       "        [7.09411878e-01, 5.88001482e-01, 3.23727845e-01, 2.05976002e-01]]])"
      ]
     },
     "execution_count": 18,
     "metadata": {},
     "output_type": "execute_result"
    }
   ],
   "source": [
    "#in the next code we will see the outputs\n",
    "data\n",
    "\n"
   ]
  },
  {
   "cell_type": "code",
   "execution_count": 22,
   "id": "ed448a9f-bc93-4844-b5d5-62cb09b3c205",
   "metadata": {},
   "outputs": [],
   "source": [
    "#here generating a numpy array with pre given data\n",
    "arr = np.array([[1,2,3,4],[1,2,3,4]])\n"
   ]
  },
  {
   "cell_type": "code",
   "execution_count": 13,
   "id": "ab4c1197-f71b-425c-91aa-2fd05304cd78",
   "metadata": {},
   "outputs": [
    {
     "data": {
      "text/plain": [
       "array([[1, 2, 3, 4],\n",
       "       [1, 2, 3, 4]])"
      ]
     },
     "execution_count": 13,
     "metadata": {},
     "output_type": "execute_result"
    }
   ],
   "source": [
    "arr"
   ]
  },
  {
   "cell_type": "code",
   "execution_count": 21,
   "id": "23ed56b9-c66d-409e-9d07-cd8b9aa19932",
   "metadata": {},
   "outputs": [
    {
     "data": {
      "text/plain": [
       "numpy.ndarray"
      ]
     },
     "execution_count": 21,
     "metadata": {},
     "output_type": "execute_result"
    }
   ],
   "source": [
    "type(arr)#typecheck"
   ]
  },
  {
   "cell_type": "code",
   "execution_count": 25,
   "id": "51f7ab55-4668-4f14-8a32-afe24bfb90b5",
   "metadata": {},
   "outputs": [],
   "source": [
    "#attributes\n",
    "shape= data.shape\n",
    "size= data.size\n",
    "types=data.dtype\n"
   ]
  },
  {
   "cell_type": "code",
   "execution_count": 28,
   "id": "bc4b16ea-733f-43c3-83c0-171cafe06176",
   "metadata": {},
   "outputs": [
    {
     "data": {
      "text/plain": [
       "(2, 3, 4)"
      ]
     },
     "execution_count": 28,
     "metadata": {},
     "output_type": "execute_result"
    }
   ],
   "source": [
    "shape\n",
    "\n"
   ]
  },
  {
   "cell_type": "code",
   "execution_count": 29,
   "id": "5f4ca68a-1864-4b38-afab-436b30647fda",
   "metadata": {},
   "outputs": [
    {
     "data": {
      "text/plain": [
       "24"
      ]
     },
     "execution_count": 29,
     "metadata": {},
     "output_type": "execute_result"
    }
   ],
   "source": [
    "size"
   ]
  },
  {
   "cell_type": "code",
   "execution_count": 30,
   "id": "42ee69f0-b4b9-4117-a180-ab6947cfafd9",
   "metadata": {},
   "outputs": [
    {
     "data": {
      "text/plain": [
       "dtype('float64')"
      ]
     },
     "execution_count": 30,
     "metadata": {},
     "output_type": "execute_result"
    }
   ],
   "source": [
    "types"
   ]
  },
  {
   "cell_type": "code",
   "execution_count": 36,
   "id": "72dd09c7-72b7-4553-b1a9-25d6cb989239",
   "metadata": {},
   "outputs": [],
   "source": [
    "#slicing\n",
    "arr= data[0]\n",
    "slicer= data[0][0:2]\n",
    "reverse= data[-1]\n",
    "singleval=data[0][0][0]"
   ]
  },
  {
   "cell_type": "code",
   "execution_count": 37,
   "id": "c35f314f-14ae-4a67-a278-0c70df503d01",
   "metadata": {},
   "outputs": [
    {
     "data": {
      "text/plain": [
       "array([[4.00371572e-01, 8.79758120e-01, 9.51191465e-01, 5.23867078e-01],\n",
       "       [5.84801792e-01, 1.92464980e-01, 9.07714656e-04, 7.03503400e-01],\n",
       "       [2.40381945e-01, 1.18366673e-02, 3.96975577e-01, 5.16347045e-01]])"
      ]
     },
     "execution_count": 37,
     "metadata": {},
     "output_type": "execute_result"
    }
   ],
   "source": [
    "arr#grab first instance here data is 2,3,4 is it will give the first indexes 3,4 array"
   ]
  },
  {
   "cell_type": "code",
   "execution_count": 39,
   "id": "f861d5eb-55b1-4374-a502-8107299e99c0",
   "metadata": {},
   "outputs": [
    {
     "data": {
      "text/plain": [
       "array([[4.00371572e-01, 8.79758120e-01, 9.51191465e-01, 5.23867078e-01],\n",
       "       [5.84801792e-01, 1.92464980e-01, 9.07714656e-04, 7.03503400e-01]])"
      ]
     },
     "execution_count": 39,
     "metadata": {},
     "output_type": "execute_result"
    }
   ],
   "source": [
    "slicer#  here [0:2] means the of 2,3,4's first two 3,4 and [0][0:2] means in 3,4 the first two of 4's array so it will return two 4 sized array"
   ]
  },
  {
   "cell_type": "code",
   "execution_count": 42,
   "id": "fd7b5190-2cd4-4761-bdcf-2193daa57429",
   "metadata": {},
   "outputs": [
    {
     "data": {
      "text/plain": [
       "array([[0.37320874, 0.37195891, 0.03691645, 0.36939587],\n",
       "       [0.45999153, 0.39484805, 0.38381764, 0.32559697],\n",
       "       [0.70941188, 0.58800148, 0.32372784, 0.205976  ]])"
      ]
     },
     "execution_count": 42,
     "metadata": {},
     "output_type": "execute_result"
    }
   ],
   "source": [
    "reverse#will index from reverse and rest is same"
   ]
  },
  {
   "cell_type": "code",
   "execution_count": 41,
   "id": "ff7b72af-66d9-4635-9d0e-0e207d20ce94",
   "metadata": {},
   "outputs": [
    {
     "data": {
      "text/plain": [
       "array([[[4.00371572e-01, 8.79758120e-01, 9.51191465e-01, 5.23867078e-01],\n",
       "        [5.84801792e-01, 1.92464980e-01, 9.07714656e-04, 7.03503400e-01],\n",
       "        [2.40381945e-01, 1.18366673e-02, 3.96975577e-01, 5.16347045e-01]],\n",
       "\n",
       "       [[3.73208737e-01, 3.71958906e-01, 3.69164483e-02, 3.69395873e-01],\n",
       "        [4.59991534e-01, 3.94848048e-01, 3.83817637e-01, 3.25596967e-01],\n",
       "        [7.09411878e-01, 5.88001482e-01, 3.23727845e-01, 2.05976002e-01]]])"
      ]
     },
     "execution_count": 41,
     "metadata": {},
     "output_type": "execute_result"
    }
   ],
   "source": []
  },
  {
   "cell_type": "code",
   "execution_count": null,
   "id": "426b9a04-53e9-4dfa-aa26-226887ce5c0b",
   "metadata": {},
   "outputs": [],
   "source": []
  }
 ],
 "metadata": {
  "kernelspec": {
   "display_name": "Python 3 (ipykernel)",
   "language": "python",
   "name": "python3"
  },
  "language_info": {
   "codemirror_mode": {
    "name": "ipython",
    "version": 3
   },
   "file_extension": ".py",
   "mimetype": "text/x-python",
   "name": "python",
   "nbconvert_exporter": "python",
   "pygments_lexer": "ipython3",
   "version": "3.12.7"
  }
 },
 "nbformat": 4,
 "nbformat_minor": 5
}
