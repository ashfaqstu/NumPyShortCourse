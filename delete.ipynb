{
 "cells": [
  {
   "cell_type": "code",
   "execution_count": 17,
   "id": "b52e9687-a7be-4a9d-945c-81f4bed0de75",
   "metadata": {},
   "outputs": [
    {
     "name": "stdout",
     "output_type": "stream",
     "text": [
      "Requirement already satisfied: numpy in c:\\users\\user\\appdata\\local\\programs\\python\\python312\\lib\\site-packages (1.26.4)\n"
     ]
    },
    {
     "name": "stderr",
     "output_type": "stream",
     "text": [
      "\n",
      "[notice] A new release of pip is available: 25.1.1 -> 25.2\n",
      "[notice] To update, run: python.exe -m pip install --upgrade pip\n"
     ]
    }
   ],
   "source": [
    "!pip install numpy\n",
    "#shift enter to run and proceed"
   ]
  },
  {
   "cell_type": "code",
   "execution_count": 4,
   "id": "9fd00315-3482-41a1-adea-8c191df51813",
   "metadata": {},
   "outputs": [],
   "source": [
    "#convention to load numpy as np\n",
    "import numpy as np"
   ]
  },
  {
   "cell_type": "code",
   "execution_count": 6,
   "id": "d9bd08b1-7baf-484d-b66a-67680330ee42",
   "metadata": {},
   "outputs": [],
   "source": [
    "data= np.random.rand(2,3,4)\n",
    "zeroes = np.zeros((2,2,2))\n",
    "full= np.full((2,2,2),7)\n",
    "ones= np.ones((2,2,2))"
   ]
  },
  {
   "cell_type": "code",
   "execution_count": 18,
   "id": "a727d804-79a6-45a3-ab09-7f10dda9f9ab",
   "metadata": {},
   "outputs": [
    {
     "data": {
      "text/plain": [
       "array([[[4.00371572e-01, 8.79758120e-01, 9.51191465e-01, 5.23867078e-01],\n",
       "        [5.84801792e-01, 1.92464980e-01, 9.07714656e-04, 7.03503400e-01],\n",
       "        [2.40381945e-01, 1.18366673e-02, 3.96975577e-01, 5.16347045e-01]],\n",
       "\n",
       "       [[3.73208737e-01, 3.71958906e-01, 3.69164483e-02, 3.69395873e-01],\n",
       "        [4.59991534e-01, 3.94848048e-01, 3.83817637e-01, 3.25596967e-01],\n",
       "        [7.09411878e-01, 5.88001482e-01, 3.23727845e-01, 2.05976002e-01]]])"
      ]
     },
     "execution_count": 18,
     "metadata": {},
     "output_type": "execute_result"
    }
   ],
   "source": [
    "#in the next code we will see the outputs\n",
    "data\n",
    "\n"
   ]
  },
  {
   "cell_type": "code",
   "execution_count": 22,
   "id": "ed448a9f-bc93-4844-b5d5-62cb09b3c205",
   "metadata": {},
   "outputs": [],
   "source": [
    "#here generating a numpy array with pre given data\n",
    "arr = np.array([[1,2,3,4],[1,2,3,4]])\n"
   ]
  },
  {
   "cell_type": "code",
   "execution_count": 13,
   "id": "ab4c1197-f71b-425c-91aa-2fd05304cd78",
   "metadata": {},
   "outputs": [
    {
     "data": {
      "text/plain": [
       "array([[1, 2, 3, 4],\n",
       "       [1, 2, 3, 4]])"
      ]
     },
     "execution_count": 13,
     "metadata": {},
     "output_type": "execute_result"
    }
   ],
   "source": [
    "arr"
   ]
  },
  {
   "cell_type": "code",
   "execution_count": 21,
   "id": "23ed56b9-c66d-409e-9d07-cd8b9aa19932",
   "metadata": {},
   "outputs": [
    {
     "data": {
      "text/plain": [
       "numpy.ndarray"
      ]
     },
     "execution_count": 21,
     "metadata": {},
     "output_type": "execute_result"
    }
   ],
   "source": [
    "type(arr)#typecheck"
   ]
  },
  {
   "cell_type": "code",
   "execution_count": 25,
   "id": "51f7ab55-4668-4f14-8a32-afe24bfb90b5",
   "metadata": {},
   "outputs": [],
   "source": [
    "#attributes\n",
    "shape= data.shape\n",
    "size= data.size\n",
    "types=data.dtype\n"
   ]
  },
  {
   "cell_type": "code",
   "execution_count": 28,
   "id": "bc4b16ea-733f-43c3-83c0-171cafe06176",
   "metadata": {},
   "outputs": [
    {
     "data": {
      "text/plain": [
       "(2, 3, 4)"
      ]
     },
     "execution_count": 28,
     "metadata": {},
     "output_type": "execute_result"
    }
   ],
   "source": [
    "shape\n",
    "\n"
   ]
  },
  {
   "cell_type": "code",
   "execution_count": 29,
   "id": "5f4ca68a-1864-4b38-afab-436b30647fda",
   "metadata": {},
   "outputs": [
    {
     "data": {
      "text/plain": [
       "24"
      ]
     },
     "execution_count": 29,
     "metadata": {},
     "output_type": "execute_result"
    }
   ],
   "source": [
    "size"
   ]
  },
  {
   "cell_type": "code",
   "execution_count": 30,
   "id": "42ee69f0-b4b9-4117-a180-ab6947cfafd9",
   "metadata": {},
   "outputs": [
    {
     "data": {
      "text/plain": [
       "dtype('float64')"
      ]
     },
     "execution_count": 30,
     "metadata": {},
     "output_type": "execute_result"
    }
   ],
   "source": [
    "types"
   ]
  },
  {
   "cell_type": "code",
   "execution_count": 43,
   "id": "72dd09c7-72b7-4553-b1a9-25d6cb989239",
   "metadata": {},
   "outputs": [
    {
     "data": {
      "text/plain": [
       "array([0.1740148 , 0.11204764, 0.22127738, 0.79056038, 0.22007161,\n",
       "       0.57690415, 0.04913741, 0.60368657, 0.45718741, 0.42467097])"
      ]
     },
     "execution_count": 43,
     "metadata": {},
     "output_type": "execute_result"
    }
   ],
   "source": [
    "list1= np.random.rand(10)\n",
    "list2= np.random.rand(10)\n",
    "list2"
   ]
  },
  {
   "cell_type": "code",
   "execution_count": 46,
   "id": "426b9a04-53e9-4dfa-aa26-226887ce5c0b",
   "metadata": {},
   "outputs": [],
   "source": [
    "#basic math they are superfast\n",
    "add = np.add(list1,list2)\n",
    "sub= np.subtract(list1, list2)\n",
    "div= np.divide(list1,list2)\n",
    "mult= np.multiply(list1,list2)\n",
    "dot = np.dot(list1, list2)"
   ]
  },
  {
   "cell_type": "code",
   "execution_count": 47,
   "id": "91f3dd17-e7ac-4f60-b128-0cd6eacc8af6",
   "metadata": {},
   "outputs": [
    {
     "data": {
      "text/plain": [
       "array([1.05332122, 0.95248733, 0.56835143, 1.67537065, 0.37831129,\n",
       "       1.33612721, 0.52097987, 1.21976513, 1.20924379, 0.58504356])"
      ]
     },
     "execution_count": 47,
     "metadata": {},
     "output_type": "execute_result"
    }
   ],
   "source": [
    "add\n"
   ]
  },
  {
   "cell_type": "code",
   "execution_count": 49,
   "id": "4549974e-6017-4a9a-bfa2-c3b0bac15e1a",
   "metadata": {},
   "outputs": [],
   "source": [
    "#statistical functions\n",
    "sqrt = np.sqrt(25)\n",
    "ab = np.abs(-2)\n",
    "power= np.power(2,7)\n",
    "log = np.log(25)\n",
    "exp = np.exp([2,3])\n",
    "mins= np.min(list1)\n",
    "maxs= np.max(list1)\n",
    "             "
   ]
  },
  {
   "cell_type": "code",
   "execution_count": 50,
   "id": "cf978635-be31-4cd1-bfd8-a572475bfacc",
   "metadata": {},
   "outputs": [],
   "source": [
    "#updating\n",
    "data[0][0][0]=100\n"
   ]
  },
  {
   "cell_type": "code",
   "execution_count": 51,
   "id": "fe5b78cf-e9e8-4d14-af02-9268f51b7652",
   "metadata": {},
   "outputs": [
    {
     "data": {
      "text/plain": [
       "array([[[1.00000000e+02, 8.79758120e-01, 9.51191465e-01, 5.23867078e-01],\n",
       "        [5.84801792e-01, 1.92464980e-01, 9.07714656e-04, 7.03503400e-01],\n",
       "        [2.40381945e-01, 1.18366673e-02, 3.96975577e-01, 5.16347045e-01]],\n",
       "\n",
       "       [[3.73208737e-01, 3.71958906e-01, 3.69164483e-02, 3.69395873e-01],\n",
       "        [4.59991534e-01, 3.94848048e-01, 3.83817637e-01, 3.25596967e-01],\n",
       "        [7.09411878e-01, 5.88001482e-01, 3.23727845e-01, 2.05976002e-01]]])"
      ]
     },
     "execution_count": 51,
     "metadata": {},
     "output_type": "execute_result"
    }
   ],
   "source": [
    "data"
   ]
  },
  {
   "cell_type": "code",
   "execution_count": 52,
   "id": "f446a2f1-c1d9-45c0-a7b9-d782281e3a2d",
   "metadata": {},
   "outputs": [],
   "source": [
    "data.sort() #sort data"
   ]
  },
  {
   "cell_type": "code",
   "execution_count": 53,
   "id": "6a7d9793-c82a-41d8-8bff-21623ce50ec0",
   "metadata": {},
   "outputs": [
    {
     "data": {
      "text/plain": [
       "array([[[5.23867078e-01, 8.79758120e-01, 9.51191465e-01, 1.00000000e+02],\n",
       "        [9.07714656e-04, 1.92464980e-01, 5.84801792e-01, 7.03503400e-01],\n",
       "        [1.18366673e-02, 2.40381945e-01, 3.96975577e-01, 5.16347045e-01]],\n",
       "\n",
       "       [[3.69164483e-02, 3.69395873e-01, 3.71958906e-01, 3.73208737e-01],\n",
       "        [3.25596967e-01, 3.83817637e-01, 3.94848048e-01, 4.59991534e-01],\n",
       "        [2.05976002e-01, 3.23727845e-01, 5.88001482e-01, 7.09411878e-01]]])"
      ]
     },
     "execution_count": 53,
     "metadata": {},
     "output_type": "execute_result"
    }
   ],
   "source": [
    "data\n"
   ]
  },
  {
   "cell_type": "code",
   "execution_count": 54,
   "id": "f7dfa7a5-ef75-4d4e-9b89-fc682d46f6c3",
   "metadata": {},
   "outputs": [
    {
     "name": "stdout",
     "output_type": "stream",
     "text": [
      "(2, 3, 4)\n"
     ]
    }
   ],
   "source": [
    "print(data.shape)\n"
   ]
  },
  {
   "cell_type": "code",
   "execution_count": 55,
   "id": "5a8e5c3a-e792-416b-bae5-d4ee2d09acff",
   "metadata": {},
   "outputs": [
    {
     "data": {
      "text/plain": [
       "(2, 2, 6)"
      ]
     },
     "execution_count": 55,
     "metadata": {},
     "output_type": "execute_result"
    }
   ],
   "source": [
    "data= data.reshape((2,2,-1))\n",
    "data.shape # here shaping it in 2 2 and the last part can be anything"
   ]
  },
  {
   "cell_type": "code",
   "execution_count": 60,
   "id": "af851e5c-6fe4-43af-af89-d1308cb055f3",
   "metadata": {},
   "outputs": [
    {
     "name": "stdout",
     "output_type": "stream",
     "text": [
      "[0. 0. 0. 0. 0. 0. 0. 0.]\n",
      "[0. 0. 0. 0. 0. 0. 0. 0. 3. 4.]\n"
     ]
    }
   ],
   "source": [
    "zeroes = np.zeros((8))\n",
    "print(zeroes)\n",
    "zeroes = np.append(zeroes,[3,4])#here appending the [3,4] arrays\n",
    "print(zeroes)"
   ]
  },
  {
   "cell_type": "code",
   "execution_count": 61,
   "id": "b0c0476d-b7ea-44ae-b900-6429f6eaf872",
   "metadata": {},
   "outputs": [
    {
     "data": {
      "text/plain": [
       "array([0., 0., 1., 0., 0., 0., 0., 0., 0., 3., 4.])"
      ]
     },
     "execution_count": 61,
     "metadata": {},
     "output_type": "execute_result"
    }
   ],
   "source": [
    "#insert in specific area\n",
    "zeroes = np.insert(zeroes,2,1)#insert the value 1 at position 2\n",
    "zeroes\n"
   ]
  },
  {
   "cell_type": "code",
   "execution_count": 85,
   "id": "875fcda4-0503-4bc6-9971-fd0bea184e83",
   "metadata": {},
   "outputs": [
    {
     "name": "stdout",
     "output_type": "stream",
     "text": [
      "[[0. 0. 0.]\n",
      " [0. 0. 0.]\n",
      " [0. 0. 0.]\n",
      " [0. 0. 0.]]\n"
     ]
    },
    {
     "data": {
      "text/plain": [
       "array([[0., 0., 0.],\n",
       "       [0., 0., 0.],\n",
       "       [0., 0., 0.],\n",
       "       [0., 0., 0.]])"
      ]
     },
     "execution_count": 85,
     "metadata": {},
     "output_type": "execute_result"
    }
   ],
   "source": [
    "zeroes= np.zeros((4,3))\n",
    "print(zeroes)\n",
    "zeroes\n"
   ]
  },
  {
   "cell_type": "code",
   "execution_count": 86,
   "id": "6beced6f-f7f1-489e-a48b-4c3314891a07",
   "metadata": {},
   "outputs": [
    {
     "data": {
      "text/plain": [
       "array([[0., 1., 0., 0.],\n",
       "       [0., 2., 0., 0.],\n",
       "       [0., 3., 0., 0.],\n",
       "       [0., 4., 0., 0.]])"
      ]
     },
     "execution_count": 86,
     "metadata": {},
     "output_type": "execute_result"
    }
   ],
   "source": [
    "zeroes= np.insert(zeroes,1,[1,2,3,4],1)\n",
    "zeroes"
   ]
  },
  {
   "cell_type": "code",
   "execution_count": null,
   "id": "3d0a50fa-34ff-4dab-9b7a-beba77d3629c",
   "metadata": {},
   "outputs": [],
   "source": []
  }
 ],
 "metadata": {
  "kernelspec": {
   "display_name": "Python 3 (ipykernel)",
   "language": "python",
   "name": "python3"
  },
  "language_info": {
   "codemirror_mode": {
    "name": "ipython",
    "version": 3
   },
   "file_extension": ".py",
   "mimetype": "text/x-python",
   "name": "python",
   "nbconvert_exporter": "python",
   "pygments_lexer": "ipython3",
   "version": "3.12.7"
  }
 },
 "nbformat": 4,
 "nbformat_minor": 5
}
