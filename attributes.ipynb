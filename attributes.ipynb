{
 "cells": [
  {
   "cell_type": "code",
   "execution_count": 16,
   "id": "b52e9687-a7be-4a9d-945c-81f4bed0de75",
   "metadata": {},
   "outputs": [
    {
     "name": "stdout",
     "output_type": "stream",
     "text": [
      "Requirement already satisfied: numpy in c:\\users\\user\\appdata\\local\\programs\\python\\python312\\lib\\site-packages (1.26.4)\n"
     ]
    },
    {
     "name": "stderr",
     "output_type": "stream",
     "text": [
      "\n",
      "[notice] A new release of pip is available: 25.1.1 -> 25.2\n",
      "[notice] To update, run: python.exe -m pip install --upgrade pip\n"
     ]
    }
   ],
   "source": [
    "!pip install numpy\n",
    "#shift enter to run"
   ]
  },
  {
   "cell_type": "code",
   "execution_count": 4,
   "id": "9fd00315-3482-41a1-adea-8c191df51813",
   "metadata": {},
   "outputs": [],
   "source": [
    "#convention to load numpy as np\n",
    "import numpy as np"
   ]
  },
  {
   "cell_type": "code",
   "execution_count": 6,
   "id": "d9bd08b1-7baf-484d-b66a-67680330ee42",
   "metadata": {},
   "outputs": [],
   "source": [
    "data= np.random.rand(2,3,4)\n",
    "zeroes = np.zeros((2,2,2))\n",
    "full= np.full((2,2,2),7)\n",
    "ones= np.ones((2,2,2))"
   ]
  },
  {
   "cell_type": "code",
   "execution_count": 8,
   "id": "a727d804-79a6-45a3-ab09-7f10dda9f9ab",
   "metadata": {},
   "outputs": [
    {
     "data": {
      "text/plain": [
       "array([[[4.00371572e-01, 8.79758120e-01, 9.51191465e-01, 5.23867078e-01],\n",
       "        [5.84801792e-01, 1.92464980e-01, 9.07714656e-04, 7.03503400e-01],\n",
       "        [2.40381945e-01, 1.18366673e-02, 3.96975577e-01, 5.16347045e-01]],\n",
       "\n",
       "       [[3.73208737e-01, 3.71958906e-01, 3.69164483e-02, 3.69395873e-01],\n",
       "        [4.59991534e-01, 3.94848048e-01, 3.83817637e-01, 3.25596967e-01],\n",
       "        [7.09411878e-01, 5.88001482e-01, 3.23727845e-01, 2.05976002e-01]]])"
      ]
     },
     "execution_count": 8,
     "metadata": {},
     "output_type": "execute_result"
    }
   ],
   "source": [
    "#in the next code we will see the outputs\n",
    "data\n",
    "\n"
   ]
  },
  {
   "cell_type": "code",
   "execution_count": 9,
   "id": "127999b6-c4f5-4553-a87f-f0537629a80c",
   "metadata": {},
   "outputs": [
    {
     "data": {
      "text/plain": [
       "array([[[0., 0.],\n",
       "        [0., 0.]],\n",
       "\n",
       "       [[0., 0.],\n",
       "        [0., 0.]]])"
      ]
     },
     "execution_count": 9,
     "metadata": {},
     "output_type": "execute_result"
    }
   ],
   "source": [
    "zeroes"
   ]
  },
  {
   "cell_type": "code",
   "execution_count": 10,
   "id": "4304037e-d21b-43f0-b1d1-2edf2961392b",
   "metadata": {},
   "outputs": [
    {
     "data": {
      "text/plain": [
       "array([[[7, 7],\n",
       "        [7, 7]],\n",
       "\n",
       "       [[7, 7],\n",
       "        [7, 7]]])"
      ]
     },
     "execution_count": 10,
     "metadata": {},
     "output_type": "execute_result"
    }
   ],
   "source": [
    "full"
   ]
  },
  {
   "cell_type": "code",
   "execution_count": 11,
   "id": "0f538ed7-9eb9-4882-9d2a-78502a700ad7",
   "metadata": {},
   "outputs": [
    {
     "data": {
      "text/plain": [
       "array([[[1., 1.],\n",
       "        [1., 1.]],\n",
       "\n",
       "       [[1., 1.],\n",
       "        [1., 1.]]])"
      ]
     },
     "execution_count": 11,
     "metadata": {},
     "output_type": "execute_result"
    }
   ],
   "source": [
    "ones"
   ]
  },
  {
   "cell_type": "code",
   "execution_count": 14,
   "id": "ed448a9f-bc93-4844-b5d5-62cb09b3c205",
   "metadata": {},
   "outputs": [],
   "source": [
    "#here creating an array with pre given data\n",
    "arr = np.array([[1,2,3,4],[1,2,3,4]])\n"
   ]
  },
  {
   "cell_type": "code",
   "execution_count": 13,
   "id": "ab4c1197-f71b-425c-91aa-2fd05304cd78",
   "metadata": {},
   "outputs": [
    {
     "data": {
      "text/plain": [
       "array([[1, 2, 3, 4],\n",
       "       [1, 2, 3, 4]])"
      ]
     },
     "execution_count": 13,
     "metadata": {},
     "output_type": "execute_result"
    }
   ],
   "source": [
    "arr"
   ]
  },
  {
   "cell_type": "code",
   "execution_count": 15,
   "id": "23ed56b9-c66d-409e-9d07-cd8b9aa19932",
   "metadata": {},
   "outputs": [
    {
     "data": {
      "text/plain": [
       "numpy.ndarray"
      ]
     },
     "execution_count": 15,
     "metadata": {},
     "output_type": "execute_result"
    }
   ],
   "source": [
    "type(arr)"
   ]
  },
  {
   "cell_type": "code",
   "execution_count": null,
   "id": "51f7ab55-4668-4f14-8a32-afe24bfb90b5",
   "metadata": {},
   "outputs": [],
   "source": []
  }
 ],
 "metadata": {
  "kernelspec": {
   "display_name": "Python 3 (ipykernel)",
   "language": "python",
   "name": "python3"
  },
  "language_info": {
   "codemirror_mode": {
    "name": "ipython",
    "version": 3
   },
   "file_extension": ".py",
   "mimetype": "text/x-python",
   "name": "python",
   "nbconvert_exporter": "python",
   "pygments_lexer": "ipython3",
   "version": "3.12.7"
  }
 },
 "nbformat": 4,
 "nbformat_minor": 5
}
